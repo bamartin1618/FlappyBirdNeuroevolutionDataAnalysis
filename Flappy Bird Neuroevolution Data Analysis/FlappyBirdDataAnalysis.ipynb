{
 "cells": [
  {
   "cell_type": "code",
   "execution_count": 29,
   "id": "d4eee2fb",
   "metadata": {},
   "outputs": [],
   "source": [
    "import pingouin\n",
    "import pandas\n",
    "\n",
    "group_a = pandas.read_csv('group_a.csv', header = None) # Import datasets\n",
    "group_b = pandas.read_csv('group_b.csv', header = None)\n",
    "group_c = pandas.read_csv('group_c.csv', header = None)"
   ]
  },
  {
   "cell_type": "code",
   "execution_count": 30,
   "id": "d5f55fa7",
   "metadata": {},
   "outputs": [],
   "source": [
    "group_a_means = pandas.DataFrame(group_a.describe().iloc[1]) # Compute the means of each generation for each dataset.\n",
    "group_a_means['type'] = [1 for i in range(len(group_a_means))]\n",
    "\n",
    "group_b_means = pandas.DataFrame(group_b.describe().iloc[1])\n",
    "group_b_means['type'] = [2 for i in range(len(group_a_means))]\n",
    "\n",
    "group_c_means = pandas.DataFrame(group_c.describe().iloc[1])\n",
    "group_c_means['type'] = [3 for i in range(len(group_a_means))]"
   ]
  },
  {
   "cell_type": "code",
   "execution_count": 31,
   "id": "5833903e",
   "metadata": {},
   "outputs": [
    {
     "data": {
      "text/html": [
       "<div>\n",
       "<style scoped>\n",
       "    .dataframe tbody tr th:only-of-type {\n",
       "        vertical-align: middle;\n",
       "    }\n",
       "\n",
       "    .dataframe tbody tr th {\n",
       "        vertical-align: top;\n",
       "    }\n",
       "\n",
       "    .dataframe thead th {\n",
       "        text-align: right;\n",
       "    }\n",
       "</style>\n",
       "<table border=\"1\" class=\"dataframe\">\n",
       "  <thead>\n",
       "    <tr style=\"text-align: right;\">\n",
       "      <th></th>\n",
       "      <th>Source</th>\n",
       "      <th>ddof1</th>\n",
       "      <th>ddof2</th>\n",
       "      <th>F</th>\n",
       "      <th>p-unc</th>\n",
       "      <th>np2</th>\n",
       "    </tr>\n",
       "  </thead>\n",
       "  <tbody>\n",
       "    <tr>\n",
       "      <th>0</th>\n",
       "      <td>type</td>\n",
       "      <td>2</td>\n",
       "      <td>402.914126</td>\n",
       "      <td>1967.916482</td>\n",
       "      <td>1.163380e-208</td>\n",
       "      <td>0.848746</td>\n",
       "    </tr>\n",
       "  </tbody>\n",
       "</table>\n",
       "</div>"
      ],
      "text/plain": [
       "  Source  ddof1       ddof2            F          p-unc       np2\n",
       "0   type      2  402.914126  1967.916482  1.163380e-208  0.848746"
      ]
     },
     "execution_count": 31,
     "metadata": {},
     "output_type": "execute_result"
    }
   ],
   "source": [
    "dataset = pandas.concat([group_a_means, group_b_means, group_c_means], ignore_index = True) # Concatenate the datasets for a one-way ANOVA.\n",
    "\n",
    "pingouin.welch_anova(dv = 'mean', between = 'type', data = dataset) # Perform a one-way ANOVA using Welch's test."
   ]
  },
  {
   "cell_type": "code",
   "execution_count": 32,
   "id": "6b59bd4a",
   "metadata": {},
   "outputs": [
    {
     "data": {
      "text/html": [
       "<div>\n",
       "<style scoped>\n",
       "    .dataframe tbody tr th:only-of-type {\n",
       "        vertical-align: middle;\n",
       "    }\n",
       "\n",
       "    .dataframe tbody tr th {\n",
       "        vertical-align: top;\n",
       "    }\n",
       "\n",
       "    .dataframe thead th {\n",
       "        text-align: right;\n",
       "    }\n",
       "</style>\n",
       "<table border=\"1\" class=\"dataframe\">\n",
       "  <thead>\n",
       "    <tr style=\"text-align: right;\">\n",
       "      <th></th>\n",
       "      <th>A</th>\n",
       "      <th>B</th>\n",
       "      <th>mean(A)</th>\n",
       "      <th>mean(B)</th>\n",
       "      <th>diff</th>\n",
       "      <th>se</th>\n",
       "      <th>T</th>\n",
       "      <th>df</th>\n",
       "      <th>pval</th>\n",
       "      <th>hedges</th>\n",
       "    </tr>\n",
       "  </thead>\n",
       "  <tbody>\n",
       "    <tr>\n",
       "      <th>0</th>\n",
       "      <td>1</td>\n",
       "      <td>2</td>\n",
       "      <td>258.206111</td>\n",
       "      <td>0.516167</td>\n",
       "      <td>257.689944</td>\n",
       "      <td>4.896246</td>\n",
       "      <td>52.630108</td>\n",
       "      <td>299.103163</td>\n",
       "      <td>0.001</td>\n",
       "      <td>4.291839</td>\n",
       "    </tr>\n",
       "    <tr>\n",
       "      <th>1</th>\n",
       "      <td>1</td>\n",
       "      <td>3</td>\n",
       "      <td>258.206111</td>\n",
       "      <td>22.063667</td>\n",
       "      <td>236.142444</td>\n",
       "      <td>4.935518</td>\n",
       "      <td>47.845525</td>\n",
       "      <td>308.733657</td>\n",
       "      <td>0.001</td>\n",
       "      <td>3.901669</td>\n",
       "    </tr>\n",
       "    <tr>\n",
       "      <th>2</th>\n",
       "      <td>2</td>\n",
       "      <td>3</td>\n",
       "      <td>0.516167</td>\n",
       "      <td>22.063667</td>\n",
       "      <td>-21.547500</td>\n",
       "      <td>0.628000</td>\n",
       "      <td>-34.311320</td>\n",
       "      <td>305.335556</td>\n",
       "      <td>0.001</td>\n",
       "      <td>-2.797992</td>\n",
       "    </tr>\n",
       "  </tbody>\n",
       "</table>\n",
       "</div>"
      ],
      "text/plain": [
       "   A  B     mean(A)    mean(B)        diff        se          T          df  \\\n",
       "0  1  2  258.206111   0.516167  257.689944  4.896246  52.630108  299.103163   \n",
       "1  1  3  258.206111  22.063667  236.142444  4.935518  47.845525  308.733657   \n",
       "2  2  3    0.516167  22.063667  -21.547500  0.628000 -34.311320  305.335556   \n",
       "\n",
       "    pval    hedges  \n",
       "0  0.001  4.291839  \n",
       "1  0.001  3.901669  \n",
       "2  0.001 -2.797992  "
      ]
     },
     "execution_count": 32,
     "metadata": {},
     "output_type": "execute_result"
    }
   ],
   "source": [
    "pingouin.pairwise_gameshowell(data = dataset, dv = 'mean', between = 'type') # Perform a post hoc analysis using the Games-Howell test."
   ]
  }
 ],
 "metadata": {
  "kernelspec": {
   "display_name": "Python 3",
   "language": "python",
   "name": "python3"
  },
  "language_info": {
   "codemirror_mode": {
    "name": "ipython",
    "version": 3
   },
   "file_extension": ".py",
   "mimetype": "text/x-python",
   "name": "python",
   "nbconvert_exporter": "python",
   "pygments_lexer": "ipython3",
   "version": "3.8.8"
  }
 },
 "nbformat": 4,
 "nbformat_minor": 5
}
